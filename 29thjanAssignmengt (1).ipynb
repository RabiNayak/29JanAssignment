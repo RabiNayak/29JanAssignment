{
 "cells": [
  {
   "cell_type": "markdown",
   "id": "0075ad01-9f38-45ee-93c2-94e72b730f7d",
   "metadata": {},
   "source": [
    "1)\n",
    "Who developed python\n",
    "\n",
    "    Guido van Rossum developed pyhton"
   ]
  },
  {
   "cell_type": "markdown",
   "id": "6d344dd1-8ac4-4422-a480-b8c82541937b",
   "metadata": {},
   "source": [
    "2)\n",
    "which type of programming does python suppots\n",
    "\n",
    "    Python is an interpreted programming language, supporting object-oriented, structured, and functional programming."
   ]
  },
  {
   "cell_type": "markdown",
   "id": "4ee12fb8-220f-4924-8369-8c729ca84392",
   "metadata": {},
   "source": [
    "3) \n",
    "Is python case sensitive using identifiers\n",
    "        Yes, Python is a case-sensitive language when using identifiers"
   ]
  },
  {
   "cell_type": "markdown",
   "id": "d0cfd863-2741-4fe4-9ac4-1ab11afa99f8",
   "metadata": {},
   "source": [
    "4)\n",
    "Correct extension of python file\n",
    "      .py is the Correct extension of python file"
   ]
  },
  {
   "cell_type": "markdown",
   "id": "9982c8cc-67eb-4138-b3b5-fd8b1ae52051",
   "metadata": {},
   "source": [
    "5)\n",
    "Is python code is interpreted or compilled\n",
    "        python code is interpreted ,the source code is directly converted bytecode that is then executed by the Python virtual machine."
   ]
  },
  {
   "cell_type": "markdown",
   "id": "40e68a2d-28ca-4ab4-895f-a345c0535d17",
   "metadata": {},
   "source": [
    "6)\n",
    "Python is a high-level, interpreted, and general-purpose programming language. It was created in the late 1980s by Guido van Rossum and has since become one of the most popular programming languages in the world\n",
    "as we can write print() to print something in the screen\n",
    "input function to take the input."
   ]
  },
  {
   "cell_type": "markdown",
   "id": "ffe7e0df-7f2f-4c70-a65d-887e0a7ed030",
   "metadata": {},
   "source": [
    "7)\n",
    "  (#) is used to give single line comment in python."
   ]
  },
  {
   "cell_type": "markdown",
   "id": "9df98f53-1893-4f3f-9d84-315bd25cc407",
   "metadata": {},
   "source": [
    "8)\n",
    "by importing sys and printing sys.version"
   ]
  },
  {
   "cell_type": "markdown",
   "id": "d0c6cee8-23f9-477c-8a15-ce491cac94f2",
   "metadata": {},
   "source": [
    "9)\n",
    "    python uses constructor called lambda to create function in runtime\n"
   ]
  },
  {
   "cell_type": "markdown",
   "id": "c6f51a96-c3a0-4385-a76d-3452f7f38082",
   "metadata": {},
   "source": [
    "10)\n",
    "pip stands for prefered installer program"
   ]
  },
  {
   "cell_type": "markdown",
   "id": "c5de5c8e-5cd6-4c95-8bb1-f16c159c98d2",
   "metadata": {},
   "source": [
    "11)\n",
    "some built in function in python are--bool(),len(),type()"
   ]
  },
  {
   "cell_type": "markdown",
   "id": "8ef99a16-55c7-4ee9-b114-e0a0cfe625ea",
   "metadata": {},
   "source": [
    "12) \n",
    "79 charecter is the possible length of identifier in python"
   ]
  },
  {
   "cell_type": "markdown",
   "id": "b3288304-33ca-404d-8a8c-bd3ffe069392",
   "metadata": {},
   "source": [
    "13)\n",
    "What is Python and benefits of using Python?\n",
    "Python programming language is a general-purpose, interpreted, and high-level language that mainly offers code readability.\n",
    "\n"
   ]
  },
  {
   "cell_type": "markdown",
   "id": "6fcc6e26-37aa-4ebf-ac5f-eb94dcba29b1",
   "metadata": {},
   "source": [
    "14) \n",
    "python memory is managed by python memory manager."
   ]
  },
  {
   "cell_type": "markdown",
   "id": "c5915337-15ee-48d2-a305-e4eb7252d1e5",
   "metadata": {},
   "source": [
    "15)\n",
    "installing python from the python website.\n",
    "and to set variebles-:\n",
    "    Right-clicking This PC and going to Properties.\n",
    "    Clicking on the Advanced system settings in the menu on the left.\n",
    "    Clicking on the Environment Variables button on the bottom right.\n",
    "    In the System variables section, selecting the Path variable and clicking on Edit."
   ]
  },
  {
   "cell_type": "markdown",
   "id": "1edb44e7-2371-446c-bbda-afee491d6022",
   "metadata": {},
   "source": [
    "16)\n",
    "Yes indentation is must required in python."
   ]
  }
 ],
 "metadata": {
  "kernelspec": {
   "display_name": "Python 3 (ipykernel)",
   "language": "python",
   "name": "python3"
  },
  "language_info": {
   "codemirror_mode": {
    "name": "ipython",
    "version": 3
   },
   "file_extension": ".py",
   "mimetype": "text/x-python",
   "name": "python",
   "nbconvert_exporter": "python",
   "pygments_lexer": "ipython3",
   "version": "3.10.8"
  }
 },
 "nbformat": 4,
 "nbformat_minor": 5
}
